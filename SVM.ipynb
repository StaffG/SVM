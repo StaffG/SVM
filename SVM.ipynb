{
 "cells": [
  {
   "cell_type": "markdown",
   "metadata": {},
   "source": [
    "# Minimum enclosing hyper-sphere\n",
    "For a set of n data samples $x_1$...$x_n$, the minimum enclosing hyper-sphere of the above data samples can be found by the following constrained optimisation problem:\n",
    "\n",
    "\\begin{align*}\n",
    "&\\min_{R,a,\\xi_i} R^2 + C \\sum_{i=1}^{n} \\xi_i\\\\\n",
    "&\\text{subject to } (x_i-a)^T(x_i-a) \\le R^2 + \\xi_i, \\forall \\xi_i \\ge 0\n",
    "\\end{align*}\n",
    "\n",
    "where $R$ is the radius of the hyper-sphere, $a$ is the center of the hyper-sphere and the variable $C$ gives the trade-of between simplicity (or volume of the sphere) and the number of errors.\n",
    "\n",
    "The Lagrangian can be formulated this way:\n",
    "\n",
    "\\begin{align*}\n",
    "L(R, a, \\xi_i, \\lambda_i, \\mu_u) = R^2 + C\\sum_{i=1}^{n}{\\xi_i} + \\sum_{i=1}^{n}{\\lambda_i}\\left((x_i - a)^T(x_i - a) - R^2 - \\xi_i \\right) - \\sum_{i=1}^{n}{\\mu_i \\xi_i}\n",
    "\\end{align*}\n",
    "\n",
    "By derivation:\n",
    "\n",
    "\\begin{align*}\n",
    "\\frac{\\partial L}{\\partial R} &= 2R - 2R\\sum_{i=1}^{n}{\\lambda_i} = 0\\\\\n",
    "\\frac{\\partial L}{\\partial \\xi_i} &= C - \\lambda_i - \\mu_i = 0\\\\\n",
    "\\frac{\\partial L}{\\partial a} &=  - 2\\sum_{i=1}^{n}{\\lambda_i} (x_i -a) = 0\\\\\n",
    "\\end{align*}\n",
    "\n",
    "This means the following:\n",
    "\n",
    "\\begin{align*}\n",
    "\\sum_{i=1}^{n}{\\lambda_i} &= 1\\\\\n",
    "C - \\lambda_i - \\mu_i &= 0\\\\\n",
    "a &=  \\sum_{i=1}^{n}{\\lambda_i} x_i\\\\\n",
    "\\end{align*}\n",
    "\n",
    "Using first and second equation in the Lagrangian leads to:\n",
    "\n",
    "\\begin{align*}\n",
    "L(R, a, \\xi_i, \\lambda_i, \\mu_u) &= R^2\\left(1-\\sum_{i=1}^{n}{\\lambda_i}\\right) + \\sum_{i=1}^{n}{\\xi_i}(C-\\lambda_i-\\mu_i) + \\sum_{i=1}^{n}{\\lambda_i}(x_i - a)^T(x_i - a)\\\\\n",
    "&=\\sum_{i=1}^{n}{\\lambda_i}(x_i - a)^T(x_i - a)\n",
    "\\end{align*}\n",
    "\n",
    "In expanding this expression, and using the third equation above:\n",
    "\n",
    "\\begin{align*}\n",
    "L(R, a, \\xi_i, \\lambda_i, \\mu_u) &= \\sum_{i=1}^{n}{\\lambda_i}(x_i - a)^T(x_i - a)\\\\\n",
    "&= \\sum_{i=1}^{n}{\\lambda_i}(x_i^T - a^T)(x_i - a)\\\\\n",
    "&= \\sum_{i=1}^{n}{\\lambda_i}x_i^Tx_i  - 2\\sum_{i=1}^{n}{\\lambda_i}a^Tx_i  + \\sum_{i=1}^{n}{\\lambda_i}a^Ta\\\\\n",
    "&= \\sum_{i=1}^{n}{\\lambda_i}x_i^Tx_i  - 2\\sum_{j=1}^{n}{\\lambda_j}x_j\\sum_{i=1}^{n}{\\lambda_i}x_i  + 1 \\times a^Ta\\\\\n",
    "&= \\sum_{i=1}^{n}{\\lambda_i}\\|x_i\\|^2  - 2\\left\\|\\sum_{i=1}^{n}{\\lambda_i}x_i\\right\\|^2  +\\left\\|\\sum_{i=1}^{n}{\\lambda_i}x_i\\right\\|^2\\\\\n",
    "&= \\sum_{i=1}^{n}{\\lambda_i}\\|x_i\\|^2  - \\left\\|\\sum_{i=1}^{n}{\\lambda_i}x_i\\right\\|^2\n",
    "\\end{align*}\n",
    "\n",
    "The problem is now:\n",
    "\n",
    "\\begin{align*}\n",
    "\\max_{\\lambda_i} &\\sum_{i=1}^{n}{\\lambda_i}\\|x_i\\|^2  - \\left\\|\\sum_{i=1}^{n}{\\lambda_i}x_i\\right\\|^2\\\\\n",
    "\\text{subject to: }& \\lambda_i = C-\\mu_i\\\\\n",
    "&\\lambda_i \\ge 0\\\\\n",
    "&\\sum_{i=1}^{n} \\lambda_i = 1\n",
    "\\end{align*}\n",
    "\n",
    "It can be put in a vectorise form:\n",
    "\n",
    "\\begin{align*}\n",
    "\t\\max_{\\lambda} &\\text{ diag}(X^TX)^T\\lambda - \\lambda^TXX^T\\lambda\\\\\n",
    "\t\\text{subject to: }& 0\\le \\lambda \\le C\\\\\n",
    "    \\ &|\\lambda| = 1\n",
    "\\end{align*}\n",
    "\n",
    "## Kernel\n",
    "The general form, with a kernel $k(x_i, x_j)=\\phi(x_i)^T\\phi(x_j)$ is:\n",
    "\n",
    "\\begin{align*}\n",
    "L(R, a, \\xi_i, \\lambda_i, \\mu_u) &= \\sum_{i=1}^{n}{\\lambda_i}\\|\\phi(x_i)\\|^2  - \\left\\|\\sum_{i=1}^{n}{\\lambda_i}\\phi(x_i)\\right\\|^2\n",
    "\\end{align*}\n",
    "\n",
    "The corresponding vectorise form is:\n",
    "\n",
    "\\begin{align*}\n",
    "\t\\max_{\\lambda} &\\text{ diag}(\\phi(X)^T\\phi(X))^T\\lambda - \\lambda^T\\phi(X)\\phi(X)^T\\lambda\\\\\n",
    "\t\\text{subject to: }& 0\\le \\lambda \\le C\\\\\n",
    "    \\ &|\\lambda| = 1\n",
    "\\end{align*}\n",
    "\n",
    "## Quadratic programming\n",
    "The lambda can be obtained by solving the quadratic program.\n",
    "The centre can be computed easily in using the expression:\n",
    "\n",
    "\\begin{align*}\n",
    "\ta = \\sum_{i=1}^{n}{\\lambda_ix_i}\n",
    "\\end{align*}\n",
    "\n",
    "To compute the radius, the idea is to use the KKT conditions on the inequality constrains:\n",
    "\n",
    "\\begin{align*}\n",
    "\t\\mu_i \\xi_i &=0\\\\\n",
    "\t\\lambda_i\\left((x_i - a)^T(x_i -a) - R^2 - \\xi_i \\right)&=0\n",
    "\\end{align*}\n",
    "\n",
    "To find the support vectors, $\\lambda_i$ has to respect this strict inequalities $0<\\lambda_i<C$. This means:\n",
    "\n",
    "\\begin{align*}\n",
    "\t\\mu_i &\\not =0\\\\\n",
    "\t\\lambda_i &\\not = 0\n",
    "\\end{align*}\n",
    "\n",
    "So:\n",
    "\n",
    "\\begin{align*}\n",
    "\t\\xi_i &=0\\\\\n",
    "\t(x_i - a)^T(x_i -a) - R^2 &=0\n",
    "\\end{align*}\n",
    "\n",
    "This means the radius is the distance between this support vector and the centre. Practically speaking, it may exist several of them, so the mean is taken in practice.\n",
    "\n",
    "\n",
    "As expected, a large value of $C$ penalises the value of $\\xi_i$ which are representative of the distance in between the circle and points outside of it.\n",
    "Choosing $C=0.1$ is more permissive and allow some points not to be in the circle.\n"
   ]
  },
  {
   "cell_type": "code",
   "execution_count": 1,
   "metadata": {},
   "outputs": [],
   "source": [
    "import numpy as np\n",
    "import matplotlib.pyplot as plt\n",
    "import cvxopt\n",
    "from ipywidgets import interact, interactive, fixed, interact_manual\n",
    "import ipywidgets as widgets"
   ]
  },
  {
   "cell_type": "code",
   "execution_count": 2,
   "metadata": {},
   "outputs": [],
   "source": [
    "r1 = np.sqrt(np.random.random(100))\n",
    "t1 = 2*np.pi*np.random.random(100)\n",
    "data_1 = np.array([r1*np.cos(t1), r1*np.sin(t1)]).T\n",
    "\n",
    "r2 = np.sqrt(3*np.random.random(100)+1)\n",
    "t2 = 2*np.pi*np.random.random(100)\n",
    "data_2 = np.array([r2*np.cos(t2), r2*np.sin(t2)]).T"
   ]
  },
  {
   "cell_type": "code",
   "execution_count": 3,
   "metadata": {},
   "outputs": [],
   "source": [
    "def border(data, C):\n",
    "    n = data.shape[0]\n",
    "    \n",
    "    P = 2*np.dot(data, data.T)\n",
    "    q = -np.transpose(np.diag(np.dot(data, data.T))).reshape(n,)\n",
    "\n",
    "    ub = C*np.ones((n,1))\n",
    "    lb = np.zeros((n,1))\n",
    "    G = np.vstack([np.eye(n), -np.eye(n)])\n",
    "    h = np.vstack([ub, -lb]).reshape(2*n,)\n",
    "\n",
    "    A = np.ones((1,n))\n",
    "    b = np.array([1.])\n",
    "    \n",
    "    cvxopt.solvers.options['show_progress'] = False\n",
    "    sol = cvxopt.solvers.qp(cvxopt.matrix(P), cvxopt.matrix(q), cvxopt.matrix(G), cvxopt.matrix(h), cvxopt.matrix(A), cvxopt.matrix(b))\n",
    "    lamb = np.array(sol['x'])\n",
    "    \n",
    "    a = np.dot(data.T, lamb).T\n",
    "    \n",
    "    svm = np.array([data[i,:] for i in range(n) if lamb[i]>10e-6])\n",
    "    \n",
    "    R = np.mean(np.sqrt(np.diag(np.dot(svm-a, (svm-a).T))))\n",
    "    \n",
    "    return a, R"
   ]
  },
  {
   "cell_type": "code",
   "execution_count": 4,
   "metadata": {},
   "outputs": [],
   "source": [
    "def plot_circle(C):\n",
    "    a1, R1 = border(data_1, C)\n",
    "    a2, R2 = border(data_2, C)\n",
    "    \n",
    "    plt.figure(figsize=(10,10))\n",
    "\n",
    "    plt.scatter(data_1[:,0], data_1[:,1], color='b')\n",
    "    plt.scatter(data_2[:,0], data_2[:,1], color='r')\n",
    "    plt.scatter(a1[0,0], a1[0,1], marker='x', color='b')\n",
    "    plt.scatter(a2[0,0], a2[0,1], marker='x', color='r')\n",
    "\n",
    "\n",
    "    circle1=plt.Circle((a1[0,0],a1[0,1]),R1,color='b', fill=False)\n",
    "    circle2=plt.Circle((a2[0,0],a2[0,1]),R2,color='r', fill=False)\n",
    "    plt.gcf().gca().add_artist(circle1)\n",
    "    plt.gcf().gca().add_artist(circle2)"
   ]
  },
  {
   "cell_type": "code",
   "execution_count": 5,
   "metadata": {},
   "outputs": [
    {
     "data": {
      "application/vnd.jupyter.widget-view+json": {
       "model_id": "13b081024e4e4675b43af120ba5a5008",
       "version_major": 2,
       "version_minor": 0
      },
      "text/plain": [
       "FloatLogSlider(value=0.1, description='C', max=0.0, min=-2.0)"
      ]
     },
     "metadata": {},
     "output_type": "display_data"
    },
    {
     "data": {
      "application/vnd.jupyter.widget-view+json": {
       "model_id": "2f3d4e938a1b48229d2d74ce56daf33b",
       "version_major": 2,
       "version_minor": 0
      },
      "text/plain": [
       "Output()"
      ]
     },
     "metadata": {},
     "output_type": "display_data"
    }
   ],
   "source": [
    "C_factor=widgets.FloatLogSlider(value=0.1, base=10, min=-2, max=0, step=0.1, description='C')\n",
    "\n",
    "ui = C_factor\n",
    "out = widgets.interactive_output(plot_circle, {'C': C_factor})\n",
    "\n",
    "display(ui, out)"
   ]
  },
  {
   "cell_type": "code",
   "execution_count": null,
   "metadata": {},
   "outputs": [],
   "source": []
  }
 ],
 "metadata": {
  "kernelspec": {
   "display_name": "Python 3",
   "language": "python",
   "name": "python3"
  },
  "language_info": {
   "codemirror_mode": {
    "name": "ipython",
    "version": 3
   },
   "file_extension": ".py",
   "mimetype": "text/x-python",
   "name": "python",
   "nbconvert_exporter": "python",
   "pygments_lexer": "ipython3",
   "version": "3.6.7"
  },
  "varInspector": {
   "cols": {
    "lenName": 16,
    "lenType": 16,
    "lenVar": 40
   },
   "kernels_config": {
    "python": {
     "delete_cmd_postfix": "",
     "delete_cmd_prefix": "del ",
     "library": "var_list.py",
     "varRefreshCmd": "print(var_dic_list())"
    },
    "r": {
     "delete_cmd_postfix": ") ",
     "delete_cmd_prefix": "rm(",
     "library": "var_list.r",
     "varRefreshCmd": "cat(var_dic_list()) "
    }
   },
   "types_to_exclude": [
    "module",
    "function",
    "builtin_function_or_method",
    "instance",
    "_Feature"
   ],
   "window_display": false
  }
 },
 "nbformat": 4,
 "nbformat_minor": 2
}
